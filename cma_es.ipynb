{
 "cells": [
  {
   "cell_type": "code",
   "execution_count": 3,
   "id": "5335f8ca",
   "metadata": {},
   "outputs": [],
   "source": [
    "from lib import cma_es"
   ]
  },
  {
   "cell_type": "code",
   "execution_count": 4,
   "id": "ed69419e-1e6d-4271-8e1c-2907858e86e9",
   "metadata": {},
   "outputs": [
    {
     "name": "stdout",
     "output_type": "stream",
     "text": [
      "最適化結果: \n",
      "解=1.0612209051373163, 値=[-0.24742858593403527]\n"
     ]
    }
   ],
   "source": [
    "def obj_func(x):\n",
    "    return x * x + 1\n",
    "\n",
    "loss, value = cma_es(obj_func, [(-4, 5)], [\"x\"])\n",
    "\n",
    "print(f\"最適化結果: \\n解={loss}, 値={value}\")"
   ]
  },
  {
   "cell_type": "code",
   "execution_count": 5,
   "id": "a51275e9",
   "metadata": {},
   "outputs": [
    {
     "name": "stdout",
     "output_type": "stream",
     "text": [
      "最適化結果: \n",
      "解=2.671371118199479, 値=[1.5942162092691579, 0.47741068740081083]\n"
     ]
    }
   ],
   "source": [
    "def parametric_func(x, y, a=1, b=1):\n",
    "        return a * (x - 1)**2 + b * (y - 2)**2\n",
    "\n",
    "loss, value = cma_es(\n",
    "        parametric_func, \n",
    "        [(-5, 5), (-5, 5)], \n",
    "        [\"x\", \"y\"], \n",
    ")\n",
    "\n",
    "print(f\"最適化結果: \\n解={loss}, 値={value}\")"
   ]
  },
  {
   "cell_type": "code",
   "execution_count": 6,
   "id": "48bfc291",
   "metadata": {},
   "outputs": [
    {
     "name": "stdout",
     "output_type": "stream",
     "text": [
      "Rosenbrock関数の最適化結果: \n",
      "解=7.097445625914032, 値=[-0.9733317728004232, 1.0969333403148673, 1.983173354930671]\n"
     ]
    }
   ],
   "source": [
    "def rosenbrock(x, y, z):\n",
    "        return (1 - x)**2 + 100*(y - x**2)**2 + (z - 1)**2\n",
    "    \n",
    "bounds = [(-2, 2), (-2, 2), (-2, 2)]\n",
    "loss, value = cma_es(rosenbrock, bounds, [\"x\", \"y\", \"z\"], max_iter=2000)\n",
    "\n",
    "print(f\"Rosenbrock関数の最適化結果: \\n解={loss}, 値={value}\")"
   ]
  }
 ],
 "metadata": {
  "kernelspec": {
   "display_name": "CMAES",
   "language": "python",
   "name": "cmaes"
  },
  "language_info": {
   "codemirror_mode": {
    "name": "ipython",
    "version": 3
   },
   "file_extension": ".py",
   "mimetype": "text/x-python",
   "name": "python",
   "nbconvert_exporter": "python",
   "pygments_lexer": "ipython3",
   "version": "3.13.0"
  }
 },
 "nbformat": 4,
 "nbformat_minor": 5
}
