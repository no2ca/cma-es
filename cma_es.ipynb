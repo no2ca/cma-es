{
 "cells": [
  {
   "cell_type": "code",
   "execution_count": 1,
   "id": "5335f8ca",
   "metadata": {},
   "outputs": [],
   "source": [
    "from lib import CMAES"
   ]
  },
  {
   "cell_type": "code",
   "execution_count": 2,
   "id": "72bb991c",
   "metadata": {},
   "outputs": [
    {
     "name": "stderr",
     "output_type": "stream",
     "text": [
      "C:\\Users\\taise\\AppData\\Local\\Temp\\ipykernel_6164\\258890609.py:12: RuntimeWarning: covariance is not symmetric positive-semidefinite.\n",
      "  value = np.random.multivariate_normal(mean=m, cov=C_dash, size=200)\n"
     ]
    },
    {
     "data": {
      "image/png": "[encoded data removed]",
      "text/plain": [
       "<Figure size 640x480 with 1 Axes>"
      ]
     },
     "metadata": {},
     "output_type": "display_data"
    }
   ],
   "source": [
    "import numpy as np\n",
    "import seaborn as sns\n",
    "from matplotlib import pyplot as plt\n",
    "\n",
    "dim = 2\n",
    "\n",
    "m = [0 for _ in range(dim)]\n",
    "C = np.identity(dim)\n",
    "C_dash = [[3, 5], \n",
    "          [0, 1]]\n",
    "\n",
    "value = np.random.multivariate_normal(mean=m, cov=C_dash, size=200)\n",
    "\n",
    "plt.show(sns.scatterplot(x=value[:,0], y=value[:,1]))"
   ]
  },
  {
   "cell_type": "code",
   "execution_count": 2,
   "id": "ed69419e-1e6d-4271-8e1c-2907858e86e9",
   "metadata": {},
   "outputs": [
    {
     "ename": "TypeError",
     "evalue": "can't multiply sequence by non-int of type 'list'",
     "output_type": "error",
     "traceback": [
      "\u001b[31m----------------------------------------------------------------\u001b[39m",
      "\u001b[31mTypeError\u001b[39m                      Traceback (most recent call last)",
      "\u001b[36mCell\u001b[39m\u001b[36m \u001b[39m\u001b[32mIn[2]\u001b[39m\u001b[32m, line 4\u001b[39m\n\u001b[32m      1\u001b[39m \u001b[38;5;28;01mdef\u001b[39;00m\u001b[38;5;250m \u001b[39m\u001b[34mobj_func\u001b[39m(x):\n\u001b[32m      2\u001b[39m     \u001b[38;5;28;01mreturn\u001b[39;00m x * x + \u001b[32m1\u001b[39m\n\u001b[32m----> \u001b[39m\u001b[32m4\u001b[39m loss, value = \u001b[43mCMAES\u001b[49m\u001b[43m.\u001b[49m\u001b[43mopt\u001b[49m\u001b[43m(\u001b[49m\u001b[43mobj_func\u001b[49m\u001b[43m,\u001b[49m\u001b[43m \u001b[49m\u001b[43m[\u001b[49m\u001b[43m(\u001b[49m\u001b[43m-\u001b[49m\u001b[32;43m4\u001b[39;49m\u001b[43m,\u001b[49m\u001b[43m \u001b[49m\u001b[32;43m5\u001b[39;49m\u001b[43m)\u001b[49m\u001b[43m]\u001b[49m\u001b[43m,\u001b[49m\u001b[43m \u001b[49m\u001b[43m[\u001b[49m\u001b[33;43m\"\u001b[39;49m\u001b[33;43mx\u001b[39;49m\u001b[33;43m\"\u001b[39;49m\u001b[43m]\u001b[49m\u001b[43m)\u001b[49m\n\u001b[32m      6\u001b[39m \u001b[38;5;28mprint\u001b[39m(\u001b[33mf\u001b[39m\u001b[33m\"\u001b[39m\u001b[33m最適化結果: \u001b[39m\u001b[38;5;130;01m\\n\u001b[39;00m\u001b[33m解=\u001b[39m\u001b[38;5;132;01m{\u001b[39;00mloss\u001b[38;5;132;01m}\u001b[39;00m\u001b[33m, 値=\u001b[39m\u001b[38;5;132;01m{\u001b[39;00mvalue\u001b[38;5;132;01m}\u001b[39;00m\u001b[33m\"\u001b[39m)\n",
      "\u001b[36mFile \u001b[39m\u001b[32m~\\Documents\\cma-es\\lib.py:37\u001b[39m, in \u001b[36mCMAES.opt\u001b[39m\u001b[34m(f, bounds, arg_names, population_size, elite_size, max_iter, tolerance, mut_rate)\u001b[39m\n\u001b[32m     35\u001b[39m \u001b[38;5;28;01mfor\u001b[39;00m x \u001b[38;5;129;01min\u001b[39;00m population:\n\u001b[32m     36\u001b[39m     arg_dict = {name: val \u001b[38;5;28;01mfor\u001b[39;00m name, val \u001b[38;5;129;01min\u001b[39;00m \u001b[38;5;28mzip\u001b[39m(arg_names, x)}\n\u001b[32m---> \u001b[39m\u001b[32m37\u001b[39m     current_loss = \u001b[43mf\u001b[49m\u001b[43m(\u001b[49m\u001b[43m*\u001b[49m\u001b[43m*\u001b[49m\u001b[43marg_dict\u001b[49m\u001b[43m)\u001b[49m\n\u001b[32m     38\u001b[39m     scores.append((x, current_loss))\n\u001b[32m     40\u001b[39m scores.sort(key=\u001b[38;5;28;01mlambda\u001b[39;00m x: x[\u001b[32m1\u001b[39m])\n",
      "\u001b[36mCell\u001b[39m\u001b[36m \u001b[39m\u001b[32mIn[2]\u001b[39m\u001b[32m, line 2\u001b[39m, in \u001b[36mobj_func\u001b[39m\u001b[34m(x)\u001b[39m\n\u001b[32m      1\u001b[39m \u001b[38;5;28;01mdef\u001b[39;00m\u001b[38;5;250m \u001b[39m\u001b[34mobj_func\u001b[39m(x):\n\u001b[32m----> \u001b[39m\u001b[32m2\u001b[39m     \u001b[38;5;28;01mreturn\u001b[39;00m \u001b[43mx\u001b[49m\u001b[43m \u001b[49m\u001b[43m*\u001b[49m\u001b[43m \u001b[49m\u001b[43mx\u001b[49m + \u001b[32m1\u001b[39m\n",
      "\u001b[31mTypeError\u001b[39m: can't multiply sequence by non-int of type 'list'"
     ]
    }
   ],
   "source": [
    "def obj_func(x):\n",
    "    return x * x + 1\n",
    "\n",
    "loss, value = CMAES.opt(obj_func, [(-4, 5)], [\"x\"])\n",
    "\n",
    "print(f\"最適化結果: \\n解={loss}, 値={value}\")"
   ]
  },
  {
   "cell_type": "code",
   "execution_count": 4,
   "id": "a51275e9",
   "metadata": {},
   "outputs": [
    {
     "ename": "TypeError",
     "evalue": "parametric_func() missing 1 required positional argument: 'y'",
     "output_type": "error",
     "traceback": [
      "\u001b[31m----------------------------------------------------------------\u001b[39m",
      "\u001b[31mTypeError\u001b[39m                      Traceback (most recent call last)",
      "\u001b[36mCell\u001b[39m\u001b[36m \u001b[39m\u001b[32mIn[4]\u001b[39m\u001b[32m, line 4\u001b[39m\n\u001b[32m      1\u001b[39m \u001b[38;5;28;01mdef\u001b[39;00m\u001b[38;5;250m \u001b[39m\u001b[34mparametric_func\u001b[39m(x, y, a=\u001b[32m1\u001b[39m, b=\u001b[32m1\u001b[39m):\n\u001b[32m      2\u001b[39m         \u001b[38;5;28;01mreturn\u001b[39;00m a * (x - \u001b[32m1\u001b[39m)**\u001b[32m2\u001b[39m + b * (y - \u001b[32m2\u001b[39m)**\u001b[32m2\u001b[39m\n\u001b[32m----> \u001b[39m\u001b[32m4\u001b[39m loss, value = \u001b[43mCMAES\u001b[49m\u001b[43m.\u001b[49m\u001b[43mopt\u001b[49m\u001b[43m(\u001b[49m\n\u001b[32m      5\u001b[39m \u001b[43m        \u001b[49m\u001b[43mparametric_func\u001b[49m\u001b[43m,\u001b[49m\u001b[43m \u001b[49m\n\u001b[32m      6\u001b[39m \u001b[43m        \u001b[49m\u001b[43m[\u001b[49m\u001b[43m(\u001b[49m\u001b[43m-\u001b[49m\u001b[32;43m5\u001b[39;49m\u001b[43m,\u001b[49m\u001b[43m \u001b[49m\u001b[32;43m5\u001b[39;49m\u001b[43m)\u001b[49m\u001b[43m,\u001b[49m\u001b[43m \u001b[49m\u001b[43m(\u001b[49m\u001b[43m-\u001b[49m\u001b[32;43m5\u001b[39;49m\u001b[43m,\u001b[49m\u001b[43m \u001b[49m\u001b[32;43m5\u001b[39;49m\u001b[43m)\u001b[49m\u001b[43m]\u001b[49m\u001b[43m,\u001b[49m\u001b[43m \u001b[49m\n\u001b[32m      7\u001b[39m \u001b[43m        \u001b[49m\u001b[43m[\u001b[49m\u001b[33;43m\"\u001b[39;49m\u001b[33;43mx\u001b[39;49m\u001b[33;43m\"\u001b[39;49m\u001b[43m,\u001b[49m\u001b[43m \u001b[49m\u001b[33;43m\"\u001b[39;49m\u001b[33;43my\u001b[39;49m\u001b[33;43m\"\u001b[39;49m\u001b[43m]\u001b[49m\u001b[43m,\u001b[49m\u001b[43m \u001b[49m\n\u001b[32m      8\u001b[39m \u001b[43m)\u001b[49m\n\u001b[32m     10\u001b[39m \u001b[38;5;28mprint\u001b[39m(\u001b[33mf\u001b[39m\u001b[33m\"\u001b[39m\u001b[33m最適化結果: \u001b[39m\u001b[38;5;130;01m\\n\u001b[39;00m\u001b[33m解=\u001b[39m\u001b[38;5;132;01m{\u001b[39;00mloss\u001b[38;5;132;01m}\u001b[39;00m\u001b[33m, 値=\u001b[39m\u001b[38;5;132;01m{\u001b[39;00mvalue\u001b[38;5;132;01m}\u001b[39;00m\u001b[33m\"\u001b[39m)\n",
      "\u001b[36mFile \u001b[39m\u001b[32m~\\Documents\\cma-es\\lib.py:36\u001b[39m, in \u001b[36mCMAES.opt\u001b[39m\u001b[34m(f, bounds, arg_names, population_size, elite_size, max_iter, tolerance, mut_rate)\u001b[39m\n\u001b[32m     34\u001b[39m \u001b[38;5;28;01mfor\u001b[39;00m x \u001b[38;5;129;01min\u001b[39;00m population:\n\u001b[32m     35\u001b[39m     arg_dict = {name: val \u001b[38;5;28;01mfor\u001b[39;00m name, val \u001b[38;5;129;01min\u001b[39;00m \u001b[38;5;28mzip\u001b[39m(arg_names, x)}\n\u001b[32m---> \u001b[39m\u001b[32m36\u001b[39m     current_loss = \u001b[43mf\u001b[49m\u001b[43m(\u001b[49m\u001b[43m*\u001b[49m\u001b[43m*\u001b[49m\u001b[43marg_dict\u001b[49m\u001b[43m)\u001b[49m\n\u001b[32m     37\u001b[39m     scores.append((x, current_loss))\n\u001b[32m     39\u001b[39m scores.sort(key=\u001b[38;5;28;01mlambda\u001b[39;00m x: x[\u001b[32m1\u001b[39m])\n",
      "\u001b[31mTypeError\u001b[39m: parametric_func() missing 1 required positional argument: 'y'"
     ]
    }
   ],
   "source": [
    "def parametric_func(x, y, a=1, b=1):\n",
    "        return a * (x - 1)**2 + b * (y - 2)**2\n",
    "\n",
    "loss, value = CMAES.opt(\n",
    "        parametric_func, \n",
    "        [(-5, 5), (-5, 5)], \n",
    "        [\"x\", \"y\"], \n",
    ")\n",
    "\n",
    "print(f\"最適化結果: \\n解={loss}, 値={value}\")"
   ]
  },
  {
   "cell_type": "code",
   "execution_count": 19,
   "id": "48bfc291",
   "metadata": {},
   "outputs": [
    {
     "name": "stdout",
     "output_type": "stream",
     "text": [
      "Rosenbrock関数の最適化結果: \n",
      "解=8.79602105740009, 値=[0.07355230298628168, -0.17111036071872343, -1.195853824943081]\n"
     ]
    }
   ],
   "source": [
    "def rosenbrock(x, y, z):\n",
    "        return (1 - x)**2 + 100*(y - x**2)**2 + (z - 1)**2\n",
    "    \n",
    "bounds = [(-2, 2), (-2, 2), (-2, 2)]\n",
    "loss, value = cma_es(rosenbrock, bounds, [\"x\", \"y\", \"z\"], max_iter=2000)\n",
    "\n",
    "print(f\"Rosenbrock関数の最適化結果: \\n解={loss}, 値={value}\")"
   ]
  }
 ],
 "metadata": {
  "kernelspec": {
   "display_name": "CMAES",
   "language": "python",
   "name": "cmaes"
  },
  "language_info": {
   "codemirror_mode": {
    "name": "ipython",
    "version": 3
   },
   "file_extension": ".py",
   "mimetype": "text/x-python",
   "name": "python",
   "nbconvert_exporter": "python",
   "pygments_lexer": "ipython3",
   "version": "3.13.0"
  }
 },
 "nbformat": 4,
 "nbformat_minor": 5
}
